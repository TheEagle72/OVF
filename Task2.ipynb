{
 "cells": [
  {
   "cell_type": "markdown",
   "id": "95451ab7",
   "metadata": {},
   "source": [
    "# Task2\n",
    "\n",
    "### Входные данные:\n",
    "Глубина ямы: U0;\n",
    "Ширина ямы: a;\n",
    "ksi: -E/U0;"
   ]
  },
  {
   "cell_type": "code",
   "execution_count": 1,
   "id": "1b4d8ef8",
   "metadata": {},
   "outputs": [
    {
     "data": {
      "text/plain": [
       "{'divide': 'warn', 'over': 'warn', 'under': 'ignore', 'invalid': 'warn'}"
      ]
     },
     "execution_count": 1,
     "metadata": {},
     "output_type": "execute_result"
    }
   ],
   "source": [
    "import numpy as np\n",
    "from matplotlib import pyplot as plt\n",
    "import ipywidgets as widgets\n",
    "np.seterr(divide='ignore')"
   ]
  },
  {
   "cell_type": "code",
   "execution_count": 2,
   "id": "26b3df79",
   "metadata": {},
   "outputs": [],
   "source": [
    "def NumericalDerivative(Function : callable, x : float, eps : float = 1e-10):\n",
    "    return (Function(x+eps)-Function(x))/eps\n",
    "\n",
    "def NumericalDerivative2(Function : callable, x : float, eps : float = 1e-10):\n",
    "    return (Function(x+eps)-Function(x-eps))/(2*eps)"
   ]
  },
  {
   "cell_type": "code",
   "execution_count": 3,
   "id": "2b72da4e",
   "metadata": {},
   "outputs": [],
   "source": [
    "def FindRootDichotomy(Function : callable, a : float, b : float, eps : float = 1e-10, iter_limit : int = 10000):\n",
    "    mid_value : float = (a+b)/2\n",
    "    iter_count : int = 0\n",
    "    while (abs(Function(mid_value)) > eps):\n",
    "        if (iter_count > iter_limit):\n",
    "            raise Exception('No root was found')\n",
    "            \n",
    "        if (a > b):\n",
    "            raise Exception('Wrong interval!')      \n",
    "            \n",
    "        mid_value = (a + b)/2\n",
    "        check_derivative = Function(a)*Function((a + b)/2)\n",
    "        if (check_derivative == 0): # we found the root, stop now\n",
    "            break\n",
    "        elif (check_derivative < 0):\n",
    "            b = mid_value\n",
    "        else:\n",
    "            a = mid_value\n",
    "        iter_count  = iter_count + 1\n",
    "    print(f\"Root found in: {iter_count}\")\n",
    "    return mid_value"
   ]
  },
  {
   "cell_type": "code",
   "execution_count": 4,
   "id": "226de7df",
   "metadata": {},
   "outputs": [],
   "source": [
    "def FindRootSimpleIter(Function : callable, x0 : float, eps : float = 1e-10, iter_limit : int = 1000):\n",
    "    if (NumericalDerivative(Function, x0)>1):\n",
    "        raise Exception(\"Derivative is bigger than 1\")\n",
    "    iter_count : int = 0\n",
    "    x = x0\n",
    "    while (abs(Function(x)) > eps):\n",
    "        if (iter_count > iter_limit):\n",
    "            raise Exception('No root was found')\n",
    "        x = x - Function(x)\n",
    "        iter_count  = iter_count + 1\n",
    "    print(f\"Root found in: {iter_count}\")\n",
    "    return x"
   ]
  },
  {
   "cell_type": "code",
   "execution_count": 5,
   "id": "f4bcb32c",
   "metadata": {},
   "outputs": [],
   "source": [
    "def FindRootNewton(Function : callable, x0 : float, eps : float = 1e-10, iter_limit : int = 1000):\n",
    "    iter_count : int = 0\n",
    "    x = x0\n",
    "    while (abs(Function(x)) > eps):\n",
    "        if (iter_count > iter_limit):\n",
    "            raise Exception('No root was found')\n",
    "        x = x - Function(x)/NumericalDerivative(Function, x, eps)\n",
    "        iter_count  = iter_count + 1\n",
    "    print(f\"Root found in: {iter_count}\")\n",
    "    return x"
   ]
  },
  {
   "cell_type": "code",
   "execution_count": 6,
   "id": "3d6b34b0",
   "metadata": {},
   "outputs": [
    {
     "name": "stdout",
     "output_type": "stream",
     "text": [
      "Root found in: 30\n",
      "Dichotomy: \n",
      "\tx: 1.4142135623842478\n",
      "\tf(x): 3.154454475406965e-12\n",
      "\n",
      "Root found in: 58\n",
      "SimpleIterations: \n",
      "\tx: 1.4142135627205854\n",
      "\tf(x): 9.828511338128011e-11\n",
      "\n",
      "Root found in: 10\n",
      "Newton: \n",
      "\tx: 1.4142135623742476\n",
      "\tf(x): 3.2596148002994596e-13\n",
      "\n"
     ]
    },
    {
     "data": {
      "image/png": "[encoded data removed]",
      "text/plain": [
       "<Figure size 576x576 with 1 Axes>"
      ]
     },
     "metadata": {
      "needs_background": "light"
     },
     "output_type": "display_data"
    }
   ],
   "source": [
    "a = 0\n",
    "b =  2\n",
    "\n",
    "def Function(x : float):\n",
    "    return (x**2 - 2)*0.1\n",
    "\n",
    "X = np.linspace(a,b)\n",
    "Y = Function(X)\n",
    "root1  = FindRootDichotomy(Function,a,b)\n",
    "print(f\"Dichotomy: \\n\\tx: {root1}\\n\\tf(x): {Function(root1)}\\n\")\n",
    "\n",
    "root2 = FindRootSimpleIter(Function, 1.5)\n",
    "print(f\"SimpleIterations: \\n\\tx: {root2}\\n\\tf(x): {Function(root2)}\\n\")\n",
    "\n",
    "root3 = FindRootNewton(Function, 100)\n",
    "print(f\"Newton: \\n\\tx: {root3}\\n\\tf(x): {Function(root3)}\\n\")\n",
    "\n",
    "plt.figure(figsize=(8,8))\n",
    "plt.plot(X,Y)\n",
    "plt.axhline(0, color = 'black')\n",
    "plt.axvline(root1, color = 'red')\n",
    "plt.grid()\n",
    "plt.show()"
   ]
  },
  {
   "cell_type": "code",
   "execution_count": 7,
   "id": "f6283a92",
   "metadata": {},
   "outputs": [
    {
     "data": {
      "application/vnd.jupyter.widget-view+json": {
       "model_id": "7522b0e743304fe7be4792d4de4c05be",
       "version_major": 2,
       "version_minor": 0
      },
      "text/plain": [
       "interactive(children=(Checkbox(value=True, description='show_F1'), Checkbox(value=True, description='show_F2')…"
      ]
     },
     "metadata": {},
     "output_type": "display_data"
    }
   ],
   "source": [
    "# Schrodingers equation\n",
    "\n",
    "\n",
    "\n",
    "\n",
    "\n",
    "\n",
    "X = np.linspace(a,b, 1000)\n",
    "\n",
    "@widgets.interact(show_F1 = True, show_F2 = True, show_S = True, U0 =(0,10.0), A = (0,10.0))\n",
    "def draw(show_F1 = True, show_F2 = True, show_S = True, U0 = 1.0, A = 1.0):\n",
    "    \n",
    "    m = 1\n",
    "    A = 1\n",
    "    U0 = 1\n",
    "    h = 1\n",
    "    const = 2*m*(A**2)*U0/(h**2)\n",
    "    a = 1e-10\n",
    "    b = (np.pi/2/const)-1\n",
    "    print(f\"b: {b}\")\n",
    "#     b = np.pi/2\n",
    "    \n",
    "    def f1(x : float):\n",
    "        return 1.0/np.tan(np.sqrt(const * (1-x)))\n",
    "#         return 1.0/np.tan(x)\n",
    "\n",
    "    def f2(x : float):\n",
    "        return np.sqrt(1/x-1)\n",
    "\n",
    "    def SchrodingersSolution(x : float):\n",
    "        return f1(x)-f2(x)\n",
    "\n",
    "    Y = SchrodingersSolution(X)\n",
    "    F1 = f1(X)\n",
    "    F2 = f2(X)\n",
    "    \n",
    "    root1  = FindRootDichotomy(SchrodingersSolution,a,b)\n",
    "    print(f\"Dichotomy: \\n\\tx: {root1}\\n\\tf(x): {SchrodingersSolution(root1)}\")\n",
    "    print(f\"Energy ground state: {-root1*U0}\\n\")\n",
    "    \n",
    "#     root2 = FindRootSimpleIter(SchrodingersSolution, 0.5)\n",
    "#     print(f\"SimpleIterations: \\n\\tx: {root2}\\n\\tf(x): {SchrodingersSolution(root2)}\")\n",
    "#     print(f\"Energy ground state: {-root2*U0}\\n\")\n",
    "\n",
    "    root3 = FindRootNewton(SchrodingersSolution, 0.1)\n",
    "    print(f\"Newton: \\n\\tx: {root3}\\n\\tf(x): {SchrodingersSolution(root3)}\")\n",
    "    print(f\"Energy ground state: {-root3*U0}\\n\")\n",
    "\n",
    "    plt.figure(figsize=(8,8))\n",
    "    plt.xlim([-np.pi, np.pi])\n",
    "    plt.ylim([-3, 3])\n",
    "\n",
    "    plt.axhline(0, color = 'black')\n",
    "    plt.axvline(0, color = 'black')\n",
    "    plt.axvline(root3, color = 'gray')\n",
    "    \n",
    "    \n",
    "    if(show_F1):\n",
    "        plt.plot(X,F1, color = 'red')\n",
    "    if(show_F2):\n",
    "        plt.plot(X,F2, color = 'blue')    \n",
    "    if(show_S):\n",
    "        plt.plot(X,Y, color = 'orange')\n",
    "    plt.grid()\n",
    "    plt.show()"
   ]
  },
  {
   "cell_type": "code",
   "execution_count": null,
   "id": "6e9d0bc1",
   "metadata": {},
   "outputs": [],
   "source": []
  },
  {
   "cell_type": "code",
   "execution_count": null,
   "id": "ad4231dd",
   "metadata": {},
   "outputs": [],
   "source": []
  },
  {
   "cell_type": "code",
   "execution_count": null,
   "id": "177b9810",
   "metadata": {},
   "outputs": [],
   "source": []
  }
 ],
 "metadata": {
  "kernelspec": {
   "display_name": "Python 3 (ipykernel)",
   "language": "python",
   "name": "python3"
  },
  "language_info": {
   "codemirror_mode": {
    "name": "ipython",
    "version": 3
   },
   "file_extension": ".py",
   "mimetype": "text/x-python",
   "name": "python",
   "nbconvert_exporter": "python",
   "pygments_lexer": "ipython3",
   "version": "3.10.7"
  }
 },
 "nbformat": 4,
 "nbformat_minor": 5
}
